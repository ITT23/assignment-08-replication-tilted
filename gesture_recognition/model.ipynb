{
 "cells": [
  {
   "cell_type": "code",
   "execution_count": 69,
   "metadata": {},
   "outputs": [],
   "source": [
    "import os, time\n",
    "import numpy as np\n",
    "import pandas as pd\n",
    "from matplotlib import pyplot as plt\n",
    "\n",
    "os.environ['TF_CPP_MIN_LOG_LEVEL'] = '2'\n",
    "\n",
    "from keras.models import Sequential\n",
    "from keras.layers import Dense, LSTM, Dropout\n",
    "from keras.callbacks import ReduceLROnPlateau, EarlyStopping\n",
    "from keras.utils import to_categorical\n",
    "\n",
    "from sklearn.metrics import confusion_matrix, ConfusionMatrixDisplay\n",
    "from sklearn.preprocessing import LabelEncoder, StandardScaler\n",
    "from sklearn.model_selection import train_test_split\n",
    "\n",
    "from scipy.signal import resample"
   ]
  },
  {
   "cell_type": "code",
   "execution_count": 60,
   "metadata": {},
   "outputs": [],
   "source": [
    "SAMPLE_POINTS = 50\n",
    "INPUT_PARAMETERS = 3\n",
    "\n",
    "SCRIPT_DIR = os.path.abspath('') #os.path.dirname(__file__); workaround for jupyter notebook\n",
    "\n",
    "DATA_PATH = os.path.join(SCRIPT_DIR, \"data\")"
   ]
  },
  {
   "cell_type": "code",
   "execution_count": 65,
   "metadata": {},
   "outputs": [],
   "source": [
    "data: list[tuple[str, list[tuple]]] = []"
   ]
  },
  {
   "cell_type": "code",
   "execution_count": 62,
   "metadata": {},
   "outputs": [],
   "source": [
    "def get_data(path: str, data_list: list) -> None:\n",
    "  for *_, files in os.walk(path):\n",
    "    if len(files) == 0:\n",
    "      continue\n",
    "\n",
    "    for file_name in files:\n",
    "      if not file_name.endswith(\".csv\"):\n",
    "        continue\n",
    "\n",
    "      file_path = os.path.join(path, file_name)\n",
    "\n",
    "      data = pd.read_csv(filepath_or_buffer=file_path, delimiter=\",\")\n",
    "\n",
    "      points = data[[\"accelerometer_x\", \"accelerometer_y\", \"accelerometer_z\"]]\n",
    "      points = np.array(points, dtype=float)\n",
    "      class_name = data[\"gesture\"][0]\n",
    "\n",
    "      scaler = StandardScaler()\n",
    "      points = scaler.fit_transform(points)\n",
    "\n",
    "      points_resampled = resample(points, SAMPLE_POINTS)\n",
    "\n",
    "      data_list.append((class_name, points_resampled))"
   ]
  },
  {
   "cell_type": "code",
   "execution_count": 66,
   "metadata": {},
   "outputs": [],
   "source": [
    "get_data(DATA_PATH, data)"
   ]
  },
  {
   "cell_type": "code",
   "execution_count": 67,
   "metadata": {},
   "outputs": [
    {
     "name": "stdout",
     "output_type": "stream",
     "text": [
      "('TILT_LEFT', array([[ 3.57121289e-01, -1.46260638e-02,  3.44675113e-01],\n",
      "       [-7.93082547e-02,  1.16479312e-01, -4.31973049e-01],\n",
      "       [ 6.29642530e-02, -7.17675670e-02,  2.26172999e-01],\n",
      "       [-1.50854800e-01, -6.12292618e-01,  6.02289689e-01],\n",
      "       [-1.08517910e-02,  2.72463822e-01, -9.90160136e-03],\n",
      "       [-2.19568840e-01,  2.86854617e-01, -2.86411690e-01],\n",
      "       [-1.35203960e-01,  8.42227160e-02, -6.98526969e-01],\n",
      "       [-5.97215128e-01, -1.30689023e+00,  7.53746265e-01],\n",
      "       [ 3.08328419e-01,  7.79805127e-01, -4.89357393e-01],\n",
      "       [-6.02717929e-01, -4.12284321e-01, -3.46645667e-01],\n",
      "       [ 1.86682120e+00,  9.28831311e-01,  4.03607218e-02],\n",
      "       [ 1.62669153e+00, -7.25663018e-01,  5.45092033e-01],\n",
      "       [-6.43817086e-01,  1.26415765e+00, -3.69140261e-01],\n",
      "       [ 2.26390309e-01, -3.49617220e-01,  2.64801524e-01],\n",
      "       [ 3.58367091e-01,  2.51039236e-01, -1.05803267e+00],\n",
      "       [ 7.74301713e-03, -6.93283051e-01,  3.12195532e-02],\n",
      "       [-2.33234363e-01, -1.18095802e-03, -4.98800359e-01],\n",
      "       [ 3.39811896e-02, -4.11220017e-01, -1.46663182e-01],\n",
      "       [-1.31754449e-02, -3.80742651e-02, -4.06347959e-01],\n",
      "       [ 1.09427349e-01,  1.66522120e-01, -1.70493972e-01],\n",
      "       [-9.66954218e-02,  3.90869196e-01, -3.07763584e-01],\n",
      "       [-8.98156563e-02, -1.21625466e-01,  7.75948503e-01],\n",
      "       [ 2.66572958e-02, -1.90530157e-01, -3.34274012e-01],\n",
      "       [ 6.33095867e-02,  1.79865845e-01, -5.94970041e-02],\n",
      "       [-1.66680286e-02, -3.90992272e-01, -5.90784250e-02],\n",
      "       [-2.19365999e-02, -7.15075705e-02, -6.46438701e-01],\n",
      "       [-1.37873749e-01,  4.09810795e-01, -2.40692241e-02],\n",
      "       [-4.87102186e-02, -5.51621927e-01,  5.69959714e-02],\n",
      "       [-7.50052320e-04,  3.10523088e-01, -5.62969420e-01],\n",
      "       [-1.51266965e-01, -7.38265737e-02,  2.40523798e-01],\n",
      "       [ 1.54820484e-01, -1.00060345e+00,  1.09513678e-01],\n",
      "       [-6.98466546e-02,  2.05991325e-01, -2.38225128e-01],\n",
      "       [-1.61662574e-01,  1.69462514e-01,  9.52980849e-01],\n",
      "       [-1.58747965e-01, -1.46110427e-01,  2.36335897e-01],\n",
      "       [-1.27287329e-01, -5.46117779e-01,  5.84813036e-03],\n",
      "       [-1.07971960e-02,  3.02762448e-01,  3.62252139e-01],\n",
      "       [-1.38966960e-01,  2.61038222e-01,  4.03732844e-01],\n",
      "       [ 2.10646113e-02,  6.00978696e-01,  1.09158912e-01],\n",
      "       [-9.55592360e-02,  3.91665213e-02,  4.92970892e-01],\n",
      "       [ 1.05353641e-01, -3.31019527e-01, -2.09135226e-02],\n",
      "       [-2.21688617e-01,  2.63109950e-01, -5.84639754e-01],\n",
      "       [-1.86203332e-01, -6.05372341e-01,  6.60414750e-01],\n",
      "       [ 1.54679081e-02,  6.96355099e-01, -2.05436304e-01],\n",
      "       [-2.09713419e-01,  4.99719429e-01,  4.53176358e-01],\n",
      "       [ 2.48006522e-03,  2.00194578e-01, -1.12761175e-01],\n",
      "       [-4.46939003e-02,  2.49353480e-01,  2.03893005e-01],\n",
      "       [-1.49181450e-01,  1.62920402e-01, -5.29345772e-01],\n",
      "       [-2.93752256e-01, -3.81035340e-01,  1.03121025e+00],\n",
      "       [-5.34114600e-02,  9.93090380e-02, -2.07723864e-01],\n",
      "       [-1.75812607e-01, -1.44544379e-01, -9.78832148e-02]]))\n"
     ]
    }
   ],
   "source": [
    "print(data[0])"
   ]
  },
  {
   "cell_type": "code",
   "execution_count": 70,
   "metadata": {},
   "outputs": [
    {
     "name": "stdout",
     "output_type": "stream",
     "text": [
      "{'TILT_LEFT'}\n",
      "{0}\n",
      "1\n",
      "(4, 50, 3) (1, 50, 3) (4, 1) (1, 1)\n"
     ]
    }
   ],
   "source": [
    "# Prepare the data\n",
    "labels = [sample[0] for sample in data]\n",
    "\n",
    "print(set(labels))\n",
    "\n",
    "encoder = LabelEncoder()\n",
    "labels_encoded = encoder.fit_transform(labels)\n",
    "\n",
    "print(set(labels_encoded))\n",
    "\n",
    "y = to_categorical(labels_encoded)\n",
    "\n",
    "print(len(y[0]))\n",
    "\n",
    "sequences = [sample[1] for sample in data]\n",
    "X = np.array(sequences)\n",
    "\n",
    "X_train, X_test, y_train, y_test = train_test_split(X, y, test_size=0.2, random_state=42)\n",
    "\n",
    "print(X_train.shape, X_test.shape, y_train.shape, y_test.shape)\n"
   ]
  },
  {
   "cell_type": "code",
   "execution_count": 71,
   "metadata": {},
   "outputs": [],
   "source": [
    "class NN:   \n",
    "\n",
    "  def init(self, options: dict) -> None:\n",
    "    self.model = Sequential()\n",
    "\n",
    "    self.model.add(LSTM(options[\"lstm_neurons\"], input_shape=(SAMPLE_POINTS, INPUT_PARAMETERS)))\n",
    "    self.model.add(Dense(options[\"fully_connected_neurons\"], activation=options[\"fully_connected_activation_function\"]))\n",
    "    if options[\"add_dropout\"]:\n",
    "      self.model.add(Dropout(options[\"dropout_rate\"]))\n",
    "    self.model.add(Dense(len(set(labels)), activation='softmax'))\n",
    "\n",
    "    self.model.compile(loss='categorical_crossentropy', optimizer='adam', metrics=['accuracy'])\n",
    "\n",
    "    self.reduce_lr = ReduceLROnPlateau(monitor='val_loss', factor=0.2, patience=2, min_lr=options[\"learn_rate\"])\n",
    "    self.stop_early = EarlyStopping(monitor='val_loss', patience=3)\n",
    "\n",
    "  def train(self, X_train: np.ndarray, y_train: np.ndarray, X_test: np.ndarray, y_test: np.ndarray, options: dict) -> None:\n",
    "    # Train the model\n",
    "    self.history = self.model.fit(\n",
    "      X_train,\n",
    "      y_train,\n",
    "      epochs=options[\"epochs\"],\n",
    "      batch_size=options[\"batch_size\"],\n",
    "      validation_data=(X_test, y_test),\n",
    "      verbose=1,\n",
    "      callbacks=[self.reduce_lr, self.stop_early]\n",
    "    )\n",
    "\n",
    "  def summarise(self) -> None:\n",
    "    self.model.summary()\n",
    "\n",
    "  def plot(self) -> None:\n",
    "    loss = self.history.history['loss']\n",
    "    val_loss = self.history.history['val_loss']\n",
    "    accuracy = self.history.history['accuracy']\n",
    "    val_accuracy = self.history.history['val_accuracy']\n",
    "\n",
    "    fig = plt.figure(figsize=(15, 7))\n",
    "    ax = plt.gca()\n",
    "\n",
    "    ax.set_xlabel('Epoch')\n",
    "    ax.set_ylabel('Accuracy (Line), Loss (Dashes)')\n",
    "\n",
    "    ax.axhline(1, color='gray')\n",
    "\n",
    "    plt.plot(accuracy, color='blue')\n",
    "    plt.plot(val_accuracy, color='orange')\n",
    "    plt.plot(loss, '--', color='blue', alpha=0.5)\n",
    "    plt.plot(val_loss, '--', color='orange', alpha=0.5)\n",
    "\n",
    "  def predict(self, X_test: np.ndarray, y_test: np.ndarray, labels_train: list[str]) -> int:\n",
    "    # let the model make predictions for our training data\n",
    "    t1 = time.time()\n",
    "    y_predictions = self.model.predict(X_test)\n",
    "    t2 = time.time()\n",
    "    \n",
    "\n",
    "    # to build a confusion matrix, we have to convert it to classifications\n",
    "    # this can be done by using the argmax() function to set the probability to 1 and the rest to 0\n",
    "    y_predictions = np.argmax(y_predictions, axis=1)\n",
    "\n",
    "    y_test_labels = np.argmax(y_test, axis=1)\n",
    "\n",
    "    # create and plot confusion matrix\n",
    "    conf_matrix = confusion_matrix(y_test_labels, y_predictions)\n",
    "\n",
    "    fig = plt.figure(figsize=(10, 10))\n",
    "\n",
    "    ConfusionMatrixDisplay(conf_matrix, display_labels=set(labels_train)).plot(ax=plt.gca())\n",
    "\n",
    "    plt.xticks(rotation=90, ha='center')\n",
    "    \n",
    "    return t2-t1"
   ]
  },
  {
   "cell_type": "code",
   "execution_count": 72,
   "metadata": {},
   "outputs": [
    {
     "name": "stdout",
     "output_type": "stream",
     "text": [
      "Epoch 1/10\n"
     ]
    },
    {
     "name": "stderr",
     "output_type": "stream",
     "text": [
      "/Users/micha/Projects/ITT/08_assignment/.venv/lib/python3.10/site-packages/tensorflow/python/util/dispatch.py:1176: SyntaxWarning: In loss categorical_crossentropy, expected y_pred.shape to be (batch_size, num_classes) with num_classes > 1. Received: y_pred.shape=(None, 1). Consider using 'binary_crossentropy' if you only have 2 classes.\n",
      "  return dispatch_target(*args, **kwargs)\n"
     ]
    },
    {
     "name": "stdout",
     "output_type": "stream",
     "text": [
      "1/1 [==============================] - 3s 3s/step - loss: 0.0000e+00 - accuracy: 1.0000 - val_loss: 0.0000e+00 - val_accuracy: 1.0000 - lr: 0.0010\n",
      "Epoch 2/10\n",
      "1/1 [==============================] - 0s 52ms/step - loss: 0.0000e+00 - accuracy: 1.0000 - val_loss: 0.0000e+00 - val_accuracy: 1.0000 - lr: 0.0010\n",
      "Epoch 3/10\n",
      "1/1 [==============================] - 0s 47ms/step - loss: 0.0000e+00 - accuracy: 1.0000 - val_loss: 0.0000e+00 - val_accuracy: 1.0000 - lr: 0.0010\n",
      "Epoch 4/10\n",
      "1/1 [==============================] - 0s 48ms/step - loss: 0.0000e+00 - accuracy: 1.0000 - val_loss: 0.0000e+00 - val_accuracy: 1.0000 - lr: 2.0000e-04\n",
      "Model: \"sequential\"\n",
      "_________________________________________________________________\n",
      " Layer (type)                Output Shape              Param #   \n",
      "=================================================================\n",
      " lstm (LSTM)                 (None, 64)                17408     \n",
      "                                                                 \n",
      " dense (Dense)               (None, 32)                2080      \n",
      "                                                                 \n",
      " dense_1 (Dense)             (None, 1)                 33        \n",
      "                                                                 \n",
      "=================================================================\n",
      "Total params: 19521 (76.25 KB)\n",
      "Trainable params: 19521 (76.25 KB)\n",
      "Non-trainable params: 0 (0.00 Byte)\n",
      "_________________________________________________________________\n",
      "1/1 [==============================] - 0s 376ms/step\n"
     ]
    },
    {
     "data": {
      "image/png": "[encoded data removed]",
      "text/plain": [
       "<Figure size 1500x700 with 1 Axes>"
      ]
     },
     "metadata": {},
     "output_type": "display_data"
    },
    {
     "data": {
      "image/png": "[encoded data removed]",
      "text/plain": [
       "<Figure size 1000x1000 with 2 Axes>"
      ]
     },
     "metadata": {},
     "output_type": "display_data"
    }
   ],
   "source": [
    "options = {\n",
    "  \"lstm_neurons\": 64,\n",
    "  \"fully_connected_neurons\": 32,\n",
    "  \"fully_connected_activation_function\": \"relu\",\n",
    "  \"epochs\": 10,\n",
    "  \"batch_size\": 32,\n",
    "  \"learn_rate\": 0.0001,\n",
    "  \"add_dropout\": False,\n",
    "  \"dropout_rate\": 0.2\n",
    "}\n",
    "\n",
    "nn = NN()\n",
    "nn.init(options)\n",
    "nn.train(X_train, y_train, X_test, y_test, options)\n",
    "nn.summarise()\n",
    "nn.plot()\n",
    "time = nn.predict(X_test, y_test, labels)"
   ]
  },
  {
   "cell_type": "code",
   "execution_count": null,
   "metadata": {},
   "outputs": [],
   "source": [
    "nn.model.save(\"lstm_model\")"
   ]
  }
 ],
 "metadata": {
  "kernelspec": {
   "display_name": ".venv",
   "language": "python",
   "name": "python3"
  },
  "language_info": {
   "codemirror_mode": {
    "name": "ipython",
    "version": 3
   },
   "file_extension": ".py",
   "mimetype": "text/x-python",
   "name": "python",
   "nbconvert_exporter": "python",
   "pygments_lexer": "ipython3",
   "version": "3.10.11"
  },
  "orig_nbformat": 4
 },
 "nbformat": 4,
 "nbformat_minor": 2
}
